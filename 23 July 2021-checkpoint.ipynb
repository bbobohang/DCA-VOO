{
 "cells": [
  {
   "cell_type": "code",
   "execution_count": 1,
   "metadata": {},
   "outputs": [
    {
     "name": "stderr",
     "output_type": "stream",
     "text": [
      "C:\\Users\\bbobo\\anaconda3\\lib\\site-packages\\pandas\\core\\frame.py:4296: SettingWithCopyWarning: \n",
      "A value is trying to be set on a copy of a slice from a DataFrame\n",
      "\n",
      "See the caveats in the documentation: https://pandas.pydata.org/pandas-docs/stable/user_guide/indexing.html#returning-a-view-versus-a-copy\n",
      "  return super().rename(\n"
     ]
    },
    {
     "data": {
      "text/html": [
       "<div>\n",
       "<style scoped>\n",
       "    .dataframe tbody tr th:only-of-type {\n",
       "        vertical-align: middle;\n",
       "    }\n",
       "\n",
       "    .dataframe tbody tr th {\n",
       "        vertical-align: top;\n",
       "    }\n",
       "\n",
       "    .dataframe thead th {\n",
       "        text-align: right;\n",
       "    }\n",
       "</style>\n",
       "<table border=\"1\" class=\"dataframe\">\n",
       "  <thead>\n",
       "    <tr style=\"text-align: right;\">\n",
       "      <th></th>\n",
       "      <th>date</th>\n",
       "      <th>price</th>\n",
       "    </tr>\n",
       "  </thead>\n",
       "  <tbody>\n",
       "    <tr>\n",
       "      <th>0</th>\n",
       "      <td>2021-07-21</td>\n",
       "      <td>397.480</td>\n",
       "    </tr>\n",
       "    <tr>\n",
       "      <th>1</th>\n",
       "      <td>2021-07-20</td>\n",
       "      <td>391.345</td>\n",
       "    </tr>\n",
       "    <tr>\n",
       "      <th>2</th>\n",
       "      <td>2021-07-19</td>\n",
       "      <td>391.780</td>\n",
       "    </tr>\n",
       "    <tr>\n",
       "      <th>3</th>\n",
       "      <td>2021-07-16</td>\n",
       "      <td>400.840</td>\n",
       "    </tr>\n",
       "    <tr>\n",
       "      <th>4</th>\n",
       "      <td>2021-07-15</td>\n",
       "      <td>399.740</td>\n",
       "    </tr>\n",
       "    <tr>\n",
       "      <th>...</th>\n",
       "      <td>...</td>\n",
       "      <td>...</td>\n",
       "    </tr>\n",
       "    <tr>\n",
       "      <th>2730</th>\n",
       "      <td>2010-09-15</td>\n",
       "      <td>51.310</td>\n",
       "    </tr>\n",
       "    <tr>\n",
       "      <th>2731</th>\n",
       "      <td>2010-09-14</td>\n",
       "      <td>51.420</td>\n",
       "    </tr>\n",
       "    <tr>\n",
       "      <th>2732</th>\n",
       "      <td>2010-09-13</td>\n",
       "      <td>51.480</td>\n",
       "    </tr>\n",
       "    <tr>\n",
       "      <th>2733</th>\n",
       "      <td>2010-09-10</td>\n",
       "      <td>50.840</td>\n",
       "    </tr>\n",
       "    <tr>\n",
       "      <th>2734</th>\n",
       "      <td>2010-09-09</td>\n",
       "      <td>51.250</td>\n",
       "    </tr>\n",
       "  </tbody>\n",
       "</table>\n",
       "<p>2735 rows × 2 columns</p>\n",
       "</div>"
      ],
      "text/plain": [
       "            date    price\n",
       "0     2021-07-21  397.480\n",
       "1     2021-07-20  391.345\n",
       "2     2021-07-19  391.780\n",
       "3     2021-07-16  400.840\n",
       "4     2021-07-15  399.740\n",
       "...          ...      ...\n",
       "2730  2010-09-15   51.310\n",
       "2731  2010-09-14   51.420\n",
       "2732  2010-09-13   51.480\n",
       "2733  2010-09-10   50.840\n",
       "2734  2010-09-09   51.250\n",
       "\n",
       "[2735 rows x 2 columns]"
      ]
     },
     "execution_count": 1,
     "metadata": {},
     "output_type": "execute_result"
    }
   ],
   "source": [
    "import pandas as pd\n",
    "import numpy as np\n",
    "\n",
    "df = pd.read_csv('daily_adjusted_VOO.csv')\n",
    "prices = df[['timestamp','open']]\n",
    "prices.rename(columns={'timestamp' : 'date', 'open' : 'price'}, inplace = True)\n",
    "prices"
   ]
  },
  {
   "cell_type": "code",
   "execution_count": 2,
   "metadata": {},
   "outputs": [
    {
     "name": "stderr",
     "output_type": "stream",
     "text": [
      "<ipython-input-2-f2cfaaa677f6>:2: SettingWithCopyWarning: \n",
      "A value is trying to be set on a copy of a slice from a DataFrame.\n",
      "Try using .loc[row_indexer,col_indexer] = value instead\n",
      "\n",
      "See the caveats in the documentation: https://pandas.pydata.org/pandas-docs/stable/user_guide/indexing.html#returning-a-view-versus-a-copy\n",
      "  prices['date']  = pd.to_datetime(prices['date'], format = '%Y-%m-%d')\n"
     ]
    }
   ],
   "source": [
    "#Converting the date to a datetime\n",
    "prices['date']  = pd.to_datetime(prices['date'], format = '%Y-%m-%d')\n"
   ]
  },
  {
   "cell_type": "code",
   "execution_count": 3,
   "metadata": {},
   "outputs": [
    {
     "data": {
      "text/html": [
       "<div>\n",
       "<style scoped>\n",
       "    .dataframe tbody tr th:only-of-type {\n",
       "        vertical-align: middle;\n",
       "    }\n",
       "\n",
       "    .dataframe tbody tr th {\n",
       "        vertical-align: top;\n",
       "    }\n",
       "\n",
       "    .dataframe thead th {\n",
       "        text-align: right;\n",
       "    }\n",
       "</style>\n",
       "<table border=\"1\" class=\"dataframe\">\n",
       "  <thead>\n",
       "    <tr style=\"text-align: right;\">\n",
       "      <th></th>\n",
       "      <th>price</th>\n",
       "    </tr>\n",
       "    <tr>\n",
       "      <th>date</th>\n",
       "      <th></th>\n",
       "    </tr>\n",
       "  </thead>\n",
       "  <tbody>\n",
       "    <tr>\n",
       "      <th>2021-07-21</th>\n",
       "      <td>397.480</td>\n",
       "    </tr>\n",
       "    <tr>\n",
       "      <th>2021-07-20</th>\n",
       "      <td>391.345</td>\n",
       "    </tr>\n",
       "    <tr>\n",
       "      <th>2021-07-19</th>\n",
       "      <td>391.780</td>\n",
       "    </tr>\n",
       "    <tr>\n",
       "      <th>2021-07-16</th>\n",
       "      <td>400.840</td>\n",
       "    </tr>\n",
       "    <tr>\n",
       "      <th>2021-07-15</th>\n",
       "      <td>399.740</td>\n",
       "    </tr>\n",
       "    <tr>\n",
       "      <th>...</th>\n",
       "      <td>...</td>\n",
       "    </tr>\n",
       "    <tr>\n",
       "      <th>2010-09-15</th>\n",
       "      <td>51.310</td>\n",
       "    </tr>\n",
       "    <tr>\n",
       "      <th>2010-09-14</th>\n",
       "      <td>51.420</td>\n",
       "    </tr>\n",
       "    <tr>\n",
       "      <th>2010-09-13</th>\n",
       "      <td>51.480</td>\n",
       "    </tr>\n",
       "    <tr>\n",
       "      <th>2010-09-10</th>\n",
       "      <td>50.840</td>\n",
       "    </tr>\n",
       "    <tr>\n",
       "      <th>2010-09-09</th>\n",
       "      <td>51.250</td>\n",
       "    </tr>\n",
       "  </tbody>\n",
       "</table>\n",
       "<p>2735 rows × 1 columns</p>\n",
       "</div>"
      ],
      "text/plain": [
       "              price\n",
       "date               \n",
       "2021-07-21  397.480\n",
       "2021-07-20  391.345\n",
       "2021-07-19  391.780\n",
       "2021-07-16  400.840\n",
       "2021-07-15  399.740\n",
       "...             ...\n",
       "2010-09-15   51.310\n",
       "2010-09-14   51.420\n",
       "2010-09-13   51.480\n",
       "2010-09-10   50.840\n",
       "2010-09-09   51.250\n",
       "\n",
       "[2735 rows x 1 columns]"
      ]
     },
     "execution_count": 3,
     "metadata": {},
     "output_type": "execute_result"
    }
   ],
   "source": [
    "#setting the date as index\n",
    "prices.set_index(['date'], inplace =True)\n",
    "prices"
   ]
  },
  {
   "cell_type": "code",
   "execution_count": 4,
   "metadata": {},
   "outputs": [],
   "source": [
    "#Separating the df for every year\n",
    "df2020 = prices.loc['2020']\n",
    "df2019 = prices.loc['2019']\n",
    "df2018 = prices.loc['2018']\n",
    "df2017 = prices.loc['2017']\n",
    "df2016 = prices.loc['2016']\n",
    "df2015 = prices.loc['2015']\n",
    "df2014 = prices.loc['2014']\n",
    "df2013 = prices.loc['2013']\n",
    "df2012 = prices.loc['2012']\n",
    "df2011 = prices.loc['2011']\n",
    "df2010 = prices.loc['2010']\n"
   ]
  },
  {
   "cell_type": "markdown",
   "metadata": {},
   "source": [
    "Realised that on October 24, 2013, there was a 1 for 2 reverse spli. meaning for each 2 shares of VOO owned pre-split, the shareholder now owned 1 share. For example, a 1000 share position pre-split, became a 500 share position following the split.\n",
    "So in this case, to make the change in the price to be fair, will have to account for the reverse split.Hence all the values before the split can be multiple by 2 to increase reliability."
   ]
  },
  {
   "cell_type": "code",
   "execution_count": 5,
   "metadata": {},
   "outputs": [],
   "source": [
    "#Reset the index for df2013 and change the dtype of \"date\" back to string to use the .str function to locate the index which the\n",
    "#split occured\n",
    "\n",
    "df2013.reset_index(inplace = True)"
   ]
  },
  {
   "cell_type": "code",
   "execution_count": 6,
   "metadata": {},
   "outputs": [
    {
     "name": "stderr",
     "output_type": "stream",
     "text": [
      "<ipython-input-6-65969cdc27dc>:1: SettingWithCopyWarning: \n",
      "A value is trying to be set on a copy of a slice from a DataFrame.\n",
      "Try using .loc[row_indexer,col_indexer] = value instead\n",
      "\n",
      "See the caveats in the documentation: https://pandas.pydata.org/pandas-docs/stable/user_guide/indexing.html#returning-a-view-versus-a-copy\n",
      "  df2013['date'] = df2013['date'].astype(str)\n"
     ]
    }
   ],
   "source": [
    "df2013['date'] = df2013['date'].astype(str)"
   ]
  },
  {
   "cell_type": "code",
   "execution_count": 7,
   "metadata": {},
   "outputs": [
    {
     "data": {
      "text/html": [
       "<div>\n",
       "<style scoped>\n",
       "    .dataframe tbody tr th:only-of-type {\n",
       "        vertical-align: middle;\n",
       "    }\n",
       "\n",
       "    .dataframe tbody tr th {\n",
       "        vertical-align: top;\n",
       "    }\n",
       "\n",
       "    .dataframe thead th {\n",
       "        text-align: right;\n",
       "    }\n",
       "</style>\n",
       "<table border=\"1\" class=\"dataframe\">\n",
       "  <thead>\n",
       "    <tr style=\"text-align: right;\">\n",
       "      <th></th>\n",
       "      <th>date</th>\n",
       "      <th>price</th>\n",
       "    </tr>\n",
       "  </thead>\n",
       "  <tbody>\n",
       "    <tr>\n",
       "      <th>47</th>\n",
       "      <td>2013-10-23</td>\n",
       "      <td>80.08</td>\n",
       "    </tr>\n",
       "  </tbody>\n",
       "</table>\n",
       "</div>"
      ],
      "text/plain": [
       "          date  price\n",
       "47  2013-10-23  80.08"
      ]
     },
     "execution_count": 7,
     "metadata": {},
     "output_type": "execute_result"
    }
   ],
   "source": [
    "filt = df2013['date'].str.contains('2013-10-23')\n",
    "df2013.loc[filt]"
   ]
  },
  {
   "cell_type": "code",
   "execution_count": 8,
   "metadata": {},
   "outputs": [
    {
     "data": {
      "text/html": [
       "<div>\n",
       "<style scoped>\n",
       "    .dataframe tbody tr th:only-of-type {\n",
       "        vertical-align: middle;\n",
       "    }\n",
       "\n",
       "    .dataframe tbody tr th {\n",
       "        vertical-align: top;\n",
       "    }\n",
       "\n",
       "    .dataframe thead th {\n",
       "        text-align: right;\n",
       "    }\n",
       "</style>\n",
       "<table border=\"1\" class=\"dataframe\">\n",
       "  <thead>\n",
       "    <tr style=\"text-align: right;\">\n",
       "      <th></th>\n",
       "      <th>date</th>\n",
       "      <th>price</th>\n",
       "    </tr>\n",
       "  </thead>\n",
       "  <tbody>\n",
       "    <tr>\n",
       "      <th>247</th>\n",
       "      <td>2013-01-08</td>\n",
       "      <td>66.72</td>\n",
       "    </tr>\n",
       "    <tr>\n",
       "      <th>248</th>\n",
       "      <td>2013-01-07</td>\n",
       "      <td>66.77</td>\n",
       "    </tr>\n",
       "    <tr>\n",
       "      <th>249</th>\n",
       "      <td>2013-01-04</td>\n",
       "      <td>66.81</td>\n",
       "    </tr>\n",
       "    <tr>\n",
       "      <th>250</th>\n",
       "      <td>2013-01-03</td>\n",
       "      <td>66.82</td>\n",
       "    </tr>\n",
       "    <tr>\n",
       "      <th>251</th>\n",
       "      <td>2013-01-02</td>\n",
       "      <td>66.47</td>\n",
       "    </tr>\n",
       "  </tbody>\n",
       "</table>\n",
       "</div>"
      ],
      "text/plain": [
       "           date  price\n",
       "247  2013-01-08  66.72\n",
       "248  2013-01-07  66.77\n",
       "249  2013-01-04  66.81\n",
       "250  2013-01-03  66.82\n",
       "251  2013-01-02  66.47"
      ]
     },
     "execution_count": 8,
     "metadata": {},
     "output_type": "execute_result"
    }
   ],
   "source": [
    "df2013.tail()"
   ]
  },
  {
   "cell_type": "markdown",
   "metadata": {},
   "source": [
    "Now we know that in df2013, from index 47 to 251, all this values have to be mulitpled by 2"
   ]
  },
  {
   "cell_type": "code",
   "execution_count": 9,
   "metadata": {},
   "outputs": [
    {
     "name": "stderr",
     "output_type": "stream",
     "text": [
      "C:\\Users\\bbobo\\anaconda3\\lib\\site-packages\\pandas\\core\\indexing.py:1745: SettingWithCopyWarning: \n",
      "A value is trying to be set on a copy of a slice from a DataFrame.\n",
      "Try using .loc[row_indexer,col_indexer] = value instead\n",
      "\n",
      "See the caveats in the documentation: https://pandas.pydata.org/pandas-docs/stable/user_guide/indexing.html#returning-a-view-versus-a-copy\n",
      "  isetter(ilocs[0], value)\n"
     ]
    }
   ],
   "source": [
    "df2013.loc[47:251,'price'] = df2013.loc[47:251,'price'] * 2"
   ]
  },
  {
   "cell_type": "code",
   "execution_count": 10,
   "metadata": {},
   "outputs": [
    {
     "name": "stderr",
     "output_type": "stream",
     "text": [
      "<ipython-input-10-2aaa52d14036>:2: SettingWithCopyWarning: \n",
      "A value is trying to be set on a copy of a slice from a DataFrame.\n",
      "Try using .loc[row_indexer,col_indexer] = value instead\n",
      "\n",
      "See the caveats in the documentation: https://pandas.pydata.org/pandas-docs/stable/user_guide/indexing.html#returning-a-view-versus-a-copy\n",
      "  df2013['date']  = pd.to_datetime(df2013['date'], format = '%Y-%m-%d')\n"
     ]
    }
   ],
   "source": [
    "#Converting the 'date' back to datetime and set 'date' as index\n",
    "df2013['date']  = pd.to_datetime(df2013['date'], format = '%Y-%m-%d')"
   ]
  },
  {
   "cell_type": "code",
   "execution_count": 11,
   "metadata": {},
   "outputs": [],
   "source": [
    "df2013.set_index(['date'],inplace = True)"
   ]
  },
  {
   "cell_type": "code",
   "execution_count": 12,
   "metadata": {},
   "outputs": [
    {
     "name": "stderr",
     "output_type": "stream",
     "text": [
      "<ipython-input-12-3bbb9d70d8aa>:1: SettingWithCopyWarning: \n",
      "A value is trying to be set on a copy of a slice from a DataFrame.\n",
      "Try using .loc[row_indexer,col_indexer] = value instead\n",
      "\n",
      "See the caveats in the documentation: https://pandas.pydata.org/pandas-docs/stable/user_guide/indexing.html#returning-a-view-versus-a-copy\n",
      "  df2012['price'] = df2012['price'] *2\n",
      "<ipython-input-12-3bbb9d70d8aa>:2: SettingWithCopyWarning: \n",
      "A value is trying to be set on a copy of a slice from a DataFrame.\n",
      "Try using .loc[row_indexer,col_indexer] = value instead\n",
      "\n",
      "See the caveats in the documentation: https://pandas.pydata.org/pandas-docs/stable/user_guide/indexing.html#returning-a-view-versus-a-copy\n",
      "  df2011['price'] = df2011['price'] *2\n",
      "<ipython-input-12-3bbb9d70d8aa>:3: SettingWithCopyWarning: \n",
      "A value is trying to be set on a copy of a slice from a DataFrame.\n",
      "Try using .loc[row_indexer,col_indexer] = value instead\n",
      "\n",
      "See the caveats in the documentation: https://pandas.pydata.org/pandas-docs/stable/user_guide/indexing.html#returning-a-view-versus-a-copy\n",
      "  df2010['price'] = df2010['price'] *2\n"
     ]
    }
   ],
   "source": [
    "df2012['price'] = df2012['price'] *2\n",
    "df2011['price'] = df2011['price'] *2\n",
    "df2010['price'] = df2010['price'] *2"
   ]
  },
  {
   "cell_type": "code",
   "execution_count": 13,
   "metadata": {},
   "outputs": [],
   "source": [
    "#Ensure that the last trading day of the year is at the top\n",
    "df2020.sort_index(ascending = False, inplace =True)\n",
    "df2019.sort_index(ascending = False, inplace =True)\n",
    "df2018.sort_index(ascending = False, inplace =True)\n",
    "df2017.sort_index(ascending = False, inplace =True)\n",
    "df2016.sort_index(ascending = False, inplace =True)\n",
    "df2015.sort_index(ascending = False, inplace =True)\n",
    "df2014.sort_index(ascending = False, inplace =True)\n",
    "df2013.sort_index(ascending = False, inplace =True)\n",
    "df2012.sort_index(ascending = False, inplace =True)\n",
    "df2011.sort_index(ascending = False, inplace =True)\n",
    "df2010.sort_index(ascending = False, inplace =True)"
   ]
  },
  {
   "cell_type": "code",
   "execution_count": 14,
   "metadata": {},
   "outputs": [
    {
     "name": "stdout",
     "output_type": "stream",
     "text": [
      "The total money spend is:39696.8\n",
      "The average cost is:179.99463760095404\n"
     ]
    }
   ],
   "source": [
    "#fees for buying will be USD 8.80\n",
    "#Calculating the average cost for lump sum. The purchase will be done on the last trading day of each year and the fees \n",
    "# 8.80 USD and the total capital spend per year is 36000 USD.\n",
    "\n",
    "lst = [df2020,df2019,df2018,df2017,df2016,df2015,df2014,df2013,df2012,df2011,df2010]\n",
    "lst.reverse()\n",
    "total_quat = 0\n",
    "ave_scost_lst = []\n",
    "last_price_lst = []\n",
    "for i in range(len(lst)):\n",
    "    price = lst[i].iloc[0,0]\n",
    "    last_price_lst.append(price)\n",
    "    buy_quat = 3600/price\n",
    "    total_quat += buy_quat\n",
    "    x = 3608.80*(i+1)/total_quat\n",
    "    ave_scost_lst.append(x)\n",
    "    \n",
    "    \n",
    "total_capital = (3600+8.80) * len(lst) \n",
    "ave_ls_cost = total_capital/total_quat\n",
    "\n",
    "print(\"The total money spend is:\" + str(total_capital))\n",
    "print(\"The average cost is:\" + str(ave_ls_cost))"
   ]
  },
  {
   "cell_type": "code",
   "execution_count": 15,
   "metadata": {},
   "outputs": [],
   "source": [
    "#Calculating RSP average cost\n",
    "#Converting back the index to the original so that the date can be converted to a string and can be used to determine if \n",
    "# specific dates are found in the df\n",
    "\n",
    "\n",
    "df2020.reset_index(inplace = True)\n",
    "df2019.reset_index(inplace = True)\n",
    "df2018.reset_index(inplace = True)\n",
    "df2017.reset_index(inplace = True)\n",
    "df2016.reset_index(inplace = True)\n",
    "df2015.reset_index(inplace = True)\n",
    "df2014.reset_index(inplace = True)\n",
    "df2013.reset_index(inplace = True)\n",
    "df2012.reset_index(inplace = True)\n",
    "df2011.reset_index(inplace = True)\n",
    "df2010.reset_index(inplace = True)\n"
   ]
  },
  {
   "cell_type": "code",
   "execution_count": 16,
   "metadata": {},
   "outputs": [
    {
     "data": {
      "text/plain": [
       "'df2020\\ndf2019\\ndf2018\\ndf2017\\ndf2016\\ndf2015\\ndf2014\\ndf2013\\ndf2012\\ndf2011\\ndf2010'"
      ]
     },
     "execution_count": 16,
     "metadata": {},
     "output_type": "execute_result"
    }
   ],
   "source": [
    "'''df2020\n",
    "df2019\n",
    "df2018\n",
    "df2017\n",
    "df2016\n",
    "df2015\n",
    "df2014\n",
    "df2013\n",
    "df2012\n",
    "df2011\n",
    "df2010'''"
   ]
  },
  {
   "cell_type": "code",
   "execution_count": 17,
   "metadata": {},
   "outputs": [
    {
     "name": "stderr",
     "output_type": "stream",
     "text": [
      "<ipython-input-17-729ad0bf4f97>:4: SettingWithCopyWarning: \n",
      "A value is trying to be set on a copy of a slice from a DataFrame.\n",
      "Try using .loc[row_indexer,col_indexer] = value instead\n",
      "\n",
      "See the caveats in the documentation: https://pandas.pydata.org/pandas-docs/stable/user_guide/indexing.html#returning-a-view-versus-a-copy\n",
      "  xdf['date'] = xdf['date'].astype(str)\n"
     ]
    }
   ],
   "source": [
    "#Converting the date from datetime to str\n",
    "\n",
    "def tostr(xdf):\n",
    "    xdf['date'] = xdf['date'].astype(str)\n",
    "\n",
    "for i in range(len(lst)):\n",
    "    tostr(lst[i])"
   ]
  },
  {
   "cell_type": "code",
   "execution_count": 18,
   "metadata": {},
   "outputs": [],
   "source": [
    "# Function to return the string of the 8th day of every month\"\n",
    "def monthget(x):\n",
    "    lst = []\n",
    "    for i in range(10):\n",
    "        date = str(x) + \"-0\" + str(i) + \"-08\"\n",
    "        lst.append(date)\n",
    "    for i in range(10,13,1):\n",
    "        date = str(x) + \"-\" + str(i) + \"-08\"\n",
    "        lst.append(date)\n",
    "    lst.pop(0)\n",
    "    return lst\n",
    "    "
   ]
  },
  {
   "cell_type": "code",
   "execution_count": 19,
   "metadata": {},
   "outputs": [
    {
     "data": {
      "text/plain": [
       "[['2020-01-08',\n",
       "  '2020-02-08',\n",
       "  '2020-03-08',\n",
       "  '2020-04-08',\n",
       "  '2020-05-08',\n",
       "  '2020-06-08',\n",
       "  '2020-07-08',\n",
       "  '2020-08-08',\n",
       "  '2020-09-08',\n",
       "  '2020-10-08',\n",
       "  '2020-11-08',\n",
       "  '2020-12-08'],\n",
       " ['2019-01-08',\n",
       "  '2019-02-08',\n",
       "  '2019-03-08',\n",
       "  '2019-04-08',\n",
       "  '2019-05-08',\n",
       "  '2019-06-08',\n",
       "  '2019-07-08',\n",
       "  '2019-08-08',\n",
       "  '2019-09-08',\n",
       "  '2019-10-08',\n",
       "  '2019-11-08',\n",
       "  '2019-12-08'],\n",
       " ['2018-01-08',\n",
       "  '2018-02-08',\n",
       "  '2018-03-08',\n",
       "  '2018-04-08',\n",
       "  '2018-05-08',\n",
       "  '2018-06-08',\n",
       "  '2018-07-08',\n",
       "  '2018-08-08',\n",
       "  '2018-09-08',\n",
       "  '2018-10-08',\n",
       "  '2018-11-08',\n",
       "  '2018-12-08'],\n",
       " ['2017-01-08',\n",
       "  '2017-02-08',\n",
       "  '2017-03-08',\n",
       "  '2017-04-08',\n",
       "  '2017-05-08',\n",
       "  '2017-06-08',\n",
       "  '2017-07-08',\n",
       "  '2017-08-08',\n",
       "  '2017-09-08',\n",
       "  '2017-10-08',\n",
       "  '2017-11-08',\n",
       "  '2017-12-08'],\n",
       " ['2016-01-08',\n",
       "  '2016-02-08',\n",
       "  '2016-03-08',\n",
       "  '2016-04-08',\n",
       "  '2016-05-08',\n",
       "  '2016-06-08',\n",
       "  '2016-07-08',\n",
       "  '2016-08-08',\n",
       "  '2016-09-08',\n",
       "  '2016-10-08',\n",
       "  '2016-11-08',\n",
       "  '2016-12-08'],\n",
       " ['2015-01-08',\n",
       "  '2015-02-08',\n",
       "  '2015-03-08',\n",
       "  '2015-04-08',\n",
       "  '2015-05-08',\n",
       "  '2015-06-08',\n",
       "  '2015-07-08',\n",
       "  '2015-08-08',\n",
       "  '2015-09-08',\n",
       "  '2015-10-08',\n",
       "  '2015-11-08',\n",
       "  '2015-12-08'],\n",
       " ['2014-01-08',\n",
       "  '2014-02-08',\n",
       "  '2014-03-08',\n",
       "  '2014-04-08',\n",
       "  '2014-05-08',\n",
       "  '2014-06-08',\n",
       "  '2014-07-08',\n",
       "  '2014-08-08',\n",
       "  '2014-09-08',\n",
       "  '2014-10-08',\n",
       "  '2014-11-08',\n",
       "  '2014-12-08'],\n",
       " ['2013-01-08',\n",
       "  '2013-02-08',\n",
       "  '2013-03-08',\n",
       "  '2013-04-08',\n",
       "  '2013-05-08',\n",
       "  '2013-06-08',\n",
       "  '2013-07-08',\n",
       "  '2013-08-08',\n",
       "  '2013-09-08',\n",
       "  '2013-10-08',\n",
       "  '2013-11-08',\n",
       "  '2013-12-08'],\n",
       " ['2012-01-08',\n",
       "  '2012-02-08',\n",
       "  '2012-03-08',\n",
       "  '2012-04-08',\n",
       "  '2012-05-08',\n",
       "  '2012-06-08',\n",
       "  '2012-07-08',\n",
       "  '2012-08-08',\n",
       "  '2012-09-08',\n",
       "  '2012-10-08',\n",
       "  '2012-11-08',\n",
       "  '2012-12-08'],\n",
       " ['2011-01-08',\n",
       "  '2011-02-08',\n",
       "  '2011-03-08',\n",
       "  '2011-04-08',\n",
       "  '2011-05-08',\n",
       "  '2011-06-08',\n",
       "  '2011-07-08',\n",
       "  '2011-08-08',\n",
       "  '2011-09-08',\n",
       "  '2011-10-08',\n",
       "  '2011-11-08',\n",
       "  '2011-12-08'],\n",
       " ['2010-01-08',\n",
       "  '2010-02-08',\n",
       "  '2010-03-08',\n",
       "  '2010-04-08',\n",
       "  '2010-05-08',\n",
       "  '2010-06-08',\n",
       "  '2010-07-08',\n",
       "  '2010-08-08',\n",
       "  '2010-09-08',\n",
       "  '2010-10-08',\n",
       "  '2010-11-08',\n",
       "  '2010-12-08']]"
      ]
     },
     "execution_count": 19,
     "metadata": {},
     "output_type": "execute_result"
    }
   ],
   "source": [
    "#Storing all the 8th of every month in a list\n",
    "yrlst = []\n",
    "yr = 2020\n",
    "\n",
    "for i in range(len(lst)):\n",
    "    x = monthget(yr)\n",
    "    yr -=1\n",
    "    yrlst.append(x)\n",
    "yrlst"
   ]
  },
  {
   "cell_type": "code",
   "execution_count": 20,
   "metadata": {},
   "outputs": [],
   "source": [
    "#To access the index of the year list\n",
    "def yeartoindex(x):\n",
    "    if x == 2020:\n",
    "        return 0\n",
    "    elif x == 2019:\n",
    "        return 1\n",
    "    elif x == 2018:\n",
    "        return 2\n",
    "    elif x == 2017:\n",
    "        return 3\n",
    "    elif x == 2016:\n",
    "        return 4\n",
    "    elif x == 2015:\n",
    "        return 5\n",
    "    elif x == 2014:\n",
    "        return 6\n",
    "    elif x == 2013:\n",
    "        return 7\n",
    "    elif x == 2012:\n",
    "        return 8\n",
    "    elif x == 2011:\n",
    "        return 9\n",
    "    elif x == 2010:\n",
    "        return 10"
   ]
  },
  {
   "cell_type": "code",
   "execution_count": 21,
   "metadata": {},
   "outputs": [],
   "source": [
    "#To find out for each year, which months will have the \"8th\" as a trading day. If the 8th of the month is not a trading day, \n",
    "# 'empty' string will be added\n",
    "def containmonth(xdf,year):\n",
    "    contain_lst = []\n",
    "    month = 0\n",
    "    while month <=11:\n",
    "        filt = xdf['date'].str.contains(yrlst[yeartoindex(year)][month])\n",
    "        length = len(xdf[filt])\n",
    "        if length >=1 :\n",
    "            contain_lst.append(yrlst[yeartoindex(year)][month])\n",
    "        else:\n",
    "            contain_lst.append(\"empty\")\n",
    "        month +=1\n",
    "            \n",
    "    return contain_lst"
   ]
  },
  {
   "cell_type": "code",
   "execution_count": 22,
   "metadata": {},
   "outputs": [
    {
     "name": "stdout",
     "output_type": "stream",
     "text": [
      "['2020-01-08', 'empty', 'empty', '2020-04-08', '2020-05-08', '2020-06-08', '2020-07-08', 'empty', '2020-09-08', '2020-10-08', 'empty', '2020-12-08']\n"
     ]
    }
   ],
   "source": [
    "lst2020 = containmonth(df2020,2020)\n",
    "print(lst2020)\n"
   ]
  },
  {
   "cell_type": "code",
   "execution_count": 23,
   "metadata": {},
   "outputs": [],
   "source": [
    "lst2019 = containmonth(df2019,2019)\n",
    "lst2018 = containmonth(df2018,2018)\n",
    "lst2017 = containmonth(df2017,2017)\n",
    "lst2016 = containmonth(df2016,2016)\n",
    "lst2015 = containmonth(df2015,2015)\n",
    "lst2014 = containmonth(df2014,2014)\n",
    "lst2013 = containmonth(df2013,2013)\n",
    "lst2012 = containmonth(df2012,2012)\n",
    "lst2011 = containmonth(df2011,2011)\n",
    "lst2010 = containmonth(df2010,2010)\n"
   ]
  },
  {
   "cell_type": "code",
   "execution_count": 24,
   "metadata": {},
   "outputs": [],
   "source": [
    "'''To find out each year, how much shares are being bought. Every month the purchase will be done on the 8th\n",
    "However, if the 8th of that month is not a trading day, it will be accummulate and the purchase will be done on the next\n",
    "subsquent month. \n",
    "E.g. 8th Jan 2020 is not a trading day. The supposed spent 300 USD will be accummulated to the next month 8th Feb 2020. If \n",
    "8th Feb 2020 is a trading day, a total of 600 USD will be spent. However, if 8th Feb 2020 isnt a trading day, the money will \n",
    "continue to accumulate until the next available trading day'''\n",
    "\n",
    "def monthquant(xdf,xlst):\n",
    "    total_quat = 0\n",
    "    count = 0\n",
    "    for i in range(len(xlst)):\n",
    "        if xlst[i] == \"empty\":\n",
    "            count +=1\n",
    "        else:\n",
    "            count +=1\n",
    "            index = xdf[xdf['date'] == xlst[i]].index\n",
    "            price = float(xdf.loc[index,'price'])\n",
    "            quat = (300+1)*count/price\n",
    "            total_quat += quat\n",
    "            count = 0\n",
    "    return total_quat\n",
    "            "
   ]
  },
  {
   "cell_type": "code",
   "execution_count": 25,
   "metadata": {},
   "outputs": [],
   "source": [
    "#To find out the quantity bought got each year\n",
    "masterdf = [df2020,df2019,df2018,df2017,df2016,df2015,df2014,df2013,df2012,df2011,df2010]\n",
    "masterlst = [lst2020,lst2019,lst2018,lst2017,lst2016,lst2015,lst2014,lst2013,lst2012,lst2011,lst2010]\n"
   ]
  },
  {
   "cell_type": "code",
   "execution_count": 26,
   "metadata": {},
   "outputs": [],
   "source": [
    "monthly_quant = []\n",
    "year = 2020\n",
    "for i in range(len(masterdf)):\n",
    "    index = yeartoindex(year)\n",
    "    year -=1\n",
    "    monthly_quant.append(monthquant(masterdf[index],masterlst[index]))\n",
    "monthly_quant.reverse()"
   ]
  },
  {
   "cell_type": "code",
   "execution_count": 27,
   "metadata": {},
   "outputs": [
    {
     "data": {
      "text/plain": [
       "175.7158972743691"
      ]
     },
     "execution_count": 27,
     "metadata": {},
     "output_type": "execute_result"
    }
   ],
   "source": [
    "ave_cost_rsp = 3612*len(masterlst)/sum(monthly_quant)\n",
    "ave_cost_rsp"
   ]
  },
  {
   "cell_type": "code",
   "execution_count": 28,
   "metadata": {},
   "outputs": [],
   "source": [
    "ave_cost_lst = []\n",
    "acc_quant = 0\n",
    "for i in range(len(monthly_quant)):\n",
    "    acc_quant += monthly_quant[i]\n",
    "    x = 3612*(i+1)/acc_quant\n",
    "    ave_cost_lst.append(x)\n"
   ]
  },
  {
   "cell_type": "code",
   "execution_count": 29,
   "metadata": {},
   "outputs": [
    {
     "data": {
      "text/html": [
       "<div>\n",
       "<style scoped>\n",
       "    .dataframe tbody tr th:only-of-type {\n",
       "        vertical-align: middle;\n",
       "    }\n",
       "\n",
       "    .dataframe tbody tr th {\n",
       "        vertical-align: top;\n",
       "    }\n",
       "\n",
       "    .dataframe thead th {\n",
       "        text-align: right;\n",
       "    }\n",
       "</style>\n",
       "<table border=\"1\" class=\"dataframe\">\n",
       "  <thead>\n",
       "    <tr style=\"text-align: right;\">\n",
       "      <th></th>\n",
       "      <th>RSP Ave Cost</th>\n",
       "      <th>Lump Sum Ave Cost</th>\n",
       "      <th>Closing Price</th>\n",
       "    </tr>\n",
       "    <tr>\n",
       "      <th>date</th>\n",
       "      <th></th>\n",
       "      <th></th>\n",
       "      <th></th>\n",
       "    </tr>\n",
       "  </thead>\n",
       "  <tbody>\n",
       "    <tr>\n",
       "      <th>2010</th>\n",
       "      <td>106.993094</td>\n",
       "      <td>115.140769</td>\n",
       "      <td>114.86</td>\n",
       "    </tr>\n",
       "    <tr>\n",
       "      <th>2011</th>\n",
       "      <td>111.715948</td>\n",
       "      <td>115.370870</td>\n",
       "      <td>115.32</td>\n",
       "    </tr>\n",
       "    <tr>\n",
       "      <th>2012</th>\n",
       "      <td>119.275007</td>\n",
       "      <td>119.361551</td>\n",
       "      <td>127.92</td>\n",
       "    </tr>\n",
       "    <tr>\n",
       "      <th>2013</th>\n",
       "      <td>127.543024</td>\n",
       "      <td>128.831315</td>\n",
       "      <td>168.66</td>\n",
       "    </tr>\n",
       "    <tr>\n",
       "      <th>2014</th>\n",
       "      <td>135.068712</td>\n",
       "      <td>137.824455</td>\n",
       "      <td>190.75</td>\n",
       "    </tr>\n",
       "    <tr>\n",
       "      <th>2015</th>\n",
       "      <td>141.684712</td>\n",
       "      <td>144.297279</td>\n",
       "      <td>188.12</td>\n",
       "    </tr>\n",
       "    <tr>\n",
       "      <th>2016</th>\n",
       "      <td>147.128575</td>\n",
       "      <td>150.814370</td>\n",
       "      <td>206.37</td>\n",
       "    </tr>\n",
       "    <tr>\n",
       "      <th>2017</th>\n",
       "      <td>153.761172</td>\n",
       "      <td>158.549859</td>\n",
       "      <td>246.76</td>\n",
       "    </tr>\n",
       "    <tr>\n",
       "      <th>2018</th>\n",
       "      <td>161.783620</td>\n",
       "      <td>164.210837</td>\n",
       "      <td>229.31</td>\n",
       "    </tr>\n",
       "    <tr>\n",
       "      <th>2019</th>\n",
       "      <td>169.131921</td>\n",
       "      <td>171.837399</td>\n",
       "      <td>294.53</td>\n",
       "    </tr>\n",
       "    <tr>\n",
       "      <th>2020</th>\n",
       "      <td>175.715897</td>\n",
       "      <td>179.994638</td>\n",
       "      <td>341.82</td>\n",
       "    </tr>\n",
       "  </tbody>\n",
       "</table>\n",
       "</div>"
      ],
      "text/plain": [
       "      RSP Ave Cost  Lump Sum Ave Cost  Closing Price\n",
       "date                                                \n",
       "2010    106.993094         115.140769         114.86\n",
       "2011    111.715948         115.370870         115.32\n",
       "2012    119.275007         119.361551         127.92\n",
       "2013    127.543024         128.831315         168.66\n",
       "2014    135.068712         137.824455         190.75\n",
       "2015    141.684712         144.297279         188.12\n",
       "2016    147.128575         150.814370         206.37\n",
       "2017    153.761172         158.549859         246.76\n",
       "2018    161.783620         164.210837         229.31\n",
       "2019    169.131921         171.837399         294.53\n",
       "2020    175.715897         179.994638         341.82"
      ]
     },
     "execution_count": 29,
     "metadata": {},
     "output_type": "execute_result"
    }
   ],
   "source": [
    "datelst =['2020','2019', '2018','2017','2016','2015','2014','2013','2012','2011','2010']\n",
    "datelst.reverse()\n",
    "ave ={\n",
    "    'date' : datelst,\n",
    "    'RSP Ave Cost' : ave_cost_lst,\n",
    "    'Lump Sum Ave Cost' : ave_scost_lst,\n",
    "    'Closing Price' : last_price_lst\n",
    "}\n",
    "avedf = pd.DataFrame(ave)\n",
    "avedf.set_index('date',inplace = True)\n",
    "\n",
    "avedf"
   ]
  },
  {
   "cell_type": "code",
   "execution_count": 30,
   "metadata": {},
   "outputs": [
    {
     "data": {
      "text/plain": [
       "<AxesSubplot:xlabel='date'>"
      ]
     },
     "execution_count": 30,
     "metadata": {},
     "output_type": "execute_result"
    },
    {
     "data": {
      "image/png": "[encoded data removed]",
      "text/plain": [
       "<Figure size 432x288 with 1 Axes>"
      ]
     },
     "metadata": {
      "needs_background": "light"
     },
     "output_type": "display_data"
    }
   ],
   "source": [
    "avedf.plot()"
   ]
  },
  {
   "cell_type": "code",
   "execution_count": 31,
   "metadata": {},
   "outputs": [],
   "source": [
    "totaldf = avedf"
   ]
  },
  {
   "cell_type": "code",
   "execution_count": 32,
   "metadata": {},
   "outputs": [],
   "source": [
    "totaldf['RSP pctchange'] = (totaldf['Closing Price'] - totaldf['RSP Ave Cost']) / totaldf['RSP Ave Cost'] *100\n",
    "totaldf['LS pctchange'] = (totaldf['Closing Price'] - totaldf['Lump Sum Ave Cost']) / totaldf['Lump Sum Ave Cost'] *100\n",
    "totaldf['pct diff'] = totaldf['RSP pctchange'] - totaldf['LS pctchange'] "
   ]
  },
  {
   "cell_type": "code",
   "execution_count": 33,
   "metadata": {},
   "outputs": [
    {
     "data": {
      "text/html": [
       "<div>\n",
       "<style scoped>\n",
       "    .dataframe tbody tr th:only-of-type {\n",
       "        vertical-align: middle;\n",
       "    }\n",
       "\n",
       "    .dataframe tbody tr th {\n",
       "        vertical-align: top;\n",
       "    }\n",
       "\n",
       "    .dataframe thead th {\n",
       "        text-align: right;\n",
       "    }\n",
       "</style>\n",
       "<table border=\"1\" class=\"dataframe\">\n",
       "  <thead>\n",
       "    <tr style=\"text-align: right;\">\n",
       "      <th></th>\n",
       "      <th>RSP Ave Cost</th>\n",
       "      <th>Lump Sum Ave Cost</th>\n",
       "      <th>Closing Price</th>\n",
       "      <th>RSP pctchange</th>\n",
       "      <th>LS pctchange</th>\n",
       "      <th>pct diff</th>\n",
       "    </tr>\n",
       "    <tr>\n",
       "      <th>date</th>\n",
       "      <th></th>\n",
       "      <th></th>\n",
       "      <th></th>\n",
       "      <th></th>\n",
       "      <th></th>\n",
       "      <th></th>\n",
       "    </tr>\n",
       "  </thead>\n",
       "  <tbody>\n",
       "    <tr>\n",
       "      <th>2010</th>\n",
       "      <td>106.993094</td>\n",
       "      <td>115.140769</td>\n",
       "      <td>114.86</td>\n",
       "      <td>7.352723</td>\n",
       "      <td>-0.243848</td>\n",
       "      <td>7.596571</td>\n",
       "    </tr>\n",
       "    <tr>\n",
       "      <th>2011</th>\n",
       "      <td>111.715948</td>\n",
       "      <td>115.370870</td>\n",
       "      <td>115.32</td>\n",
       "      <td>3.226085</td>\n",
       "      <td>-0.044093</td>\n",
       "      <td>3.270178</td>\n",
       "    </tr>\n",
       "    <tr>\n",
       "      <th>2012</th>\n",
       "      <td>119.275007</td>\n",
       "      <td>119.361551</td>\n",
       "      <td>127.92</td>\n",
       "      <td>7.247951</td>\n",
       "      <td>7.170189</td>\n",
       "      <td>0.077761</td>\n",
       "    </tr>\n",
       "    <tr>\n",
       "      <th>2013</th>\n",
       "      <td>127.543024</td>\n",
       "      <td>128.831315</td>\n",
       "      <td>168.66</td>\n",
       "      <td>32.237730</td>\n",
       "      <td>30.915375</td>\n",
       "      <td>1.322355</td>\n",
       "    </tr>\n",
       "    <tr>\n",
       "      <th>2014</th>\n",
       "      <td>135.068712</td>\n",
       "      <td>137.824455</td>\n",
       "      <td>190.75</td>\n",
       "      <td>41.224416</td>\n",
       "      <td>38.400692</td>\n",
       "      <td>2.823724</td>\n",
       "    </tr>\n",
       "    <tr>\n",
       "      <th>2015</th>\n",
       "      <td>141.684712</td>\n",
       "      <td>144.297279</td>\n",
       "      <td>188.12</td>\n",
       "      <td>32.773675</td>\n",
       "      <td>30.369749</td>\n",
       "      <td>2.403927</td>\n",
       "    </tr>\n",
       "    <tr>\n",
       "      <th>2016</th>\n",
       "      <td>147.128575</td>\n",
       "      <td>150.814370</td>\n",
       "      <td>206.37</td>\n",
       "      <td>40.265071</td>\n",
       "      <td>36.837093</td>\n",
       "      <td>3.427978</td>\n",
       "    </tr>\n",
       "    <tr>\n",
       "      <th>2017</th>\n",
       "      <td>153.761172</td>\n",
       "      <td>158.549859</td>\n",
       "      <td>246.76</td>\n",
       "      <td>60.482647</td>\n",
       "      <td>55.635584</td>\n",
       "      <td>4.847063</td>\n",
       "    </tr>\n",
       "    <tr>\n",
       "      <th>2018</th>\n",
       "      <td>161.783620</td>\n",
       "      <td>164.210837</td>\n",
       "      <td>229.31</td>\n",
       "      <td>41.738700</td>\n",
       "      <td>39.643646</td>\n",
       "      <td>2.095054</td>\n",
       "    </tr>\n",
       "    <tr>\n",
       "      <th>2019</th>\n",
       "      <td>169.131921</td>\n",
       "      <td>171.837399</td>\n",
       "      <td>294.53</td>\n",
       "      <td>74.142171</td>\n",
       "      <td>71.400406</td>\n",
       "      <td>2.741765</td>\n",
       "    </tr>\n",
       "    <tr>\n",
       "      <th>2020</th>\n",
       "      <td>175.715897</td>\n",
       "      <td>179.994638</td>\n",
       "      <td>341.82</td>\n",
       "      <td>94.529923</td>\n",
       "      <td>89.905657</td>\n",
       "      <td>4.624266</td>\n",
       "    </tr>\n",
       "  </tbody>\n",
       "</table>\n",
       "</div>"
      ],
      "text/plain": [
       "      RSP Ave Cost  Lump Sum Ave Cost  Closing Price  RSP pctchange  \\\n",
       "date                                                                  \n",
       "2010    106.993094         115.140769         114.86       7.352723   \n",
       "2011    111.715948         115.370870         115.32       3.226085   \n",
       "2012    119.275007         119.361551         127.92       7.247951   \n",
       "2013    127.543024         128.831315         168.66      32.237730   \n",
       "2014    135.068712         137.824455         190.75      41.224416   \n",
       "2015    141.684712         144.297279         188.12      32.773675   \n",
       "2016    147.128575         150.814370         206.37      40.265071   \n",
       "2017    153.761172         158.549859         246.76      60.482647   \n",
       "2018    161.783620         164.210837         229.31      41.738700   \n",
       "2019    169.131921         171.837399         294.53      74.142171   \n",
       "2020    175.715897         179.994638         341.82      94.529923   \n",
       "\n",
       "      LS pctchange  pct diff  \n",
       "date                          \n",
       "2010     -0.243848  7.596571  \n",
       "2011     -0.044093  3.270178  \n",
       "2012      7.170189  0.077761  \n",
       "2013     30.915375  1.322355  \n",
       "2014     38.400692  2.823724  \n",
       "2015     30.369749  2.403927  \n",
       "2016     36.837093  3.427978  \n",
       "2017     55.635584  4.847063  \n",
       "2018     39.643646  2.095054  \n",
       "2019     71.400406  2.741765  \n",
       "2020     89.905657  4.624266  "
      ]
     },
     "execution_count": 33,
     "metadata": {},
     "output_type": "execute_result"
    }
   ],
   "source": [
    "totaldf"
   ]
  },
  {
   "cell_type": "code",
   "execution_count": 34,
   "metadata": {},
   "outputs": [
    {
     "data": {
      "text/plain": [
       "'As seen from the results, having a RSP will yield a lower average cost as compared to a lum sum investing. However,\\nthe percent difference is not alot.\\n\\n\\n\\n'"
      ]
     },
     "execution_count": 34,
     "metadata": {},
     "output_type": "execute_result"
    }
   ],
   "source": [
    "'''As seen from the results, having a RSP will yield a lower average cost as compared to a lum sum investing. However,\n",
    "the percent difference is not alot.\n",
    "\n",
    "\n",
    "\n",
    "'''"
   ]
  },
  {
   "cell_type": "code",
   "execution_count": null,
   "metadata": {},
   "outputs": [],
   "source": []
  }
 ],
 "metadata": {
  "kernelspec": {
   "display_name": "Python 3",
   "language": "python",
   "name": "python3"
  },
  "language_info": {
   "codemirror_mode": {
    "name": "ipython",
    "version": 3
   },
   "file_extension": ".py",
   "mimetype": "text/x-python",
   "name": "python",
   "nbconvert_exporter": "python",
   "pygments_lexer": "ipython3",
   "version": "3.8.5"
  }
 },
 "nbformat": 4,
 "nbformat_minor": 4
}
